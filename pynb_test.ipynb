{
 "cells": [
  {
   "cell_type": "code",
   "execution_count": 9,
   "id": "ccd31612-9d4d-4217-82db-46a38da71829",
   "metadata": {},
   "outputs": [],
   "source": [
    "import pandas as pd\n",
    "import ipywidgets as widgets\n",
    "import plotly.graph_objects as go\n",
    "pd.options.plotting.backend = \"plotly\""
   ]
  },
  {
   "cell_type": "code",
   "execution_count": 11,
   "id": "f1c5aad5-b19f-4383-88ca-238372229226",
   "metadata": {},
   "outputs": [],
   "source": [
    "d = {'x': [1, 2], 'y': [3, 4]}\n",
    "df = pd.DataFrame(data=d)\n",
    "\n",
    "df = df.set_index('x')\n",
    "df_plot = df.plot()"
   ]
  },
  {
   "cell_type": "code",
   "execution_count": 10,
   "id": "36f0c5e8",
   "metadata": {},
   "outputs": [],
   "source": [
    "main_out = widgets.Output()"
   ]
  },
  {
   "cell_type": "code",
   "execution_count": 12,
   "id": "d9ad720e",
   "metadata": {},
   "outputs": [],
   "source": [
    "with main_out:\n",
    "    display(df_plot)"
   ]
  },
  {
   "cell_type": "code",
   "execution_count": 13,
   "id": "d1c7a93a",
   "metadata": {},
   "outputs": [
    {
     "data": {
      "application/vnd.jupyter.widget-view+json": {
       "model_id": "1539353c598c4d6285797e6821c0096c",
       "version_major": 2,
       "version_minor": 0
      },
      "text/plain": [
       "Output(outputs=({'output_type': 'display_data', 'data': {'application/vnd.plotly.v1+json': {'data': [{'hoverte…"
      ]
     },
     "metadata": {},
     "output_type": "display_data"
    }
   ],
   "source": [
    "display(main_out)"
   ]
  },
  {
   "cell_type": "code",
   "execution_count": null,
   "id": "0ada7a6a",
   "metadata": {},
   "outputs": [],
   "source": []
  }
 ],
 "metadata": {
  "kernelspec": {
   "display_name": "Python 3 (ipykernel)",
   "language": "python",
   "name": "python3"
  },
  "language_info": {
   "codemirror_mode": {
    "name": "ipython",
    "version": 3
   },
   "file_extension": ".py",
   "mimetype": "text/x-python",
   "name": "python",
   "nbconvert_exporter": "python",
   "pygments_lexer": "ipython3",
   "version": "3.8.8"
  }
 },
 "nbformat": 4,
 "nbformat_minor": 5
}
